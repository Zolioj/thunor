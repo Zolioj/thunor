{
 "cells": [
  {
   "cell_type": "markdown",
   "metadata": {},
   "source": [
    "# Thunor Core Tutorial"
   ]
  },
  {
   "cell_type": "markdown",
   "metadata": {},
   "source": [
    "**Thunor** (pronounced THOO-nor) is a free software platform for managing,\n",
    "visualizing, and analyzing high throughput cell proliferation data,\n",
    "which measure the dose-dependent response of cells to one or more drug(s).\n",
    "\n",
    "This repository, [Thunor Core](https://github.com/alubbock/thunor), is a\n",
    "Python package which can be used for standalone analysis or integration\n",
    "into computational pipelines.\n",
    "\n",
    "A web interface is also available, called [Thunor Web](https://github.com/alubbock/thunor-web).\n",
    "Thunor Web has a [comprehensive manual](https://docs.thunor.net), which goes\n",
    "into further detail about the curve fitting methods, types of plots\n",
    "available and other information you may find relevant.\n",
    "\n",
    "Please see the [Thunor website](https://www.thunor.net) for additional resources,\n",
    "and a link to our chat room, where you can ask questions about Thunor."
   ]
  },
  {
   "cell_type": "markdown",
   "metadata": {},
   "source": [
    "## Start Jupyter Notebook"
   ]
  },
  {
   "cell_type": "markdown",
   "metadata": {},
   "source": [
    "Run jupyter notebook with the following argument:\n",
    "\n",
    "    jupyter notebook --NotebookApp.iopub_data_rate_limit=1.0e10\n",
    "    \n",
    "The data rate limit needs to be increased or `init_notebook_mode()` throws an error.\n",
    "This is a [plotly requirement](https://community.plot.ly/t/tips-for-using-plotly-with-jupyter-notebook-5-0-the-latest-version/4156)."
   ]
  },
  {
   "cell_type": "markdown",
   "metadata": {},
   "source": [
    "## Check Thunor Core is available"
   ]
  },
  {
   "cell_type": "code",
   "execution_count": null,
   "metadata": {},
   "outputs": [],
   "source": [
    "# If the import doesn't work, uncomment the following two lines, or \"pip install thunor\"\n",
    "import os, sys\n",
    "sys.path.insert(0, os.path.abspath('../'))\n",
    "\n",
    "import thunor"
   ]
  },
  {
   "cell_type": "markdown",
   "metadata": {},
   "source": [
    "## Load a file"
   ]
  },
  {
   "cell_type": "markdown",
   "metadata": {},
   "source": [
    "First, specify a file to load. Here, we use an example dataset from the thunor package itself."
   ]
  },
  {
   "cell_type": "code",
   "execution_count": null,
   "metadata": {},
   "outputs": [],
   "source": [
    "hts007_file = '../thunor/testdata/hts007.h5'"
   ]
  },
  {
   "cell_type": "markdown",
   "metadata": {},
   "source": [
    "Load the file using `read_hdf` (for HDF5 files), `read_vanderbilt_hts` (for CSV files), or another appropriate reader."
   ]
  },
  {
   "cell_type": "code",
   "execution_count": null,
   "metadata": {},
   "outputs": [],
   "source": [
    "from thunor.io import read_hdf\n",
    "hts007 = read_hdf(hts007_file)"
   ]
  },
  {
   "cell_type": "markdown",
   "metadata": {},
   "source": [
    "We'll just use a subset of the drugs, to make the plots manageable."
   ]
  },
  {
   "cell_type": "code",
   "execution_count": null,
   "metadata": {},
   "outputs": [],
   "source": [
    "hts007r = hts007.filter(drugs=['cediranib', 'everolimus', 'paclitaxel'])"
   ]
  },
  {
   "cell_type": "code",
   "execution_count": null,
   "metadata": {},
   "outputs": [],
   "source": [
    "hts007r.drugs"
   ]
  },
  {
   "cell_type": "code",
   "execution_count": null,
   "metadata": {},
   "outputs": [],
   "source": [
    "hts007r.cell_lines"
   ]
  },
  {
   "cell_type": "markdown",
   "metadata": {},
   "source": [
    "## Calculate DIP rates and parameters\n",
    "\n",
    "These two operations can be done in two lines of code (plus imports). Note that you may see `RuntimeWarning` messages, which indicates that some dose response curves were not able to be fitted. This can happen if the cells do not stop proliferating in response to drug, the response is not closely approximated by a log-logistic curve, or the data are very noisy."
   ]
  },
  {
   "cell_type": "code",
   "execution_count": null,
   "metadata": {},
   "outputs": [],
   "source": [
    "from thunor.dip import dip_rates\n",
    "from thunor.curve_fit import fit_params\n",
    "\n",
    "ctrl_dip_data, expt_dip_data = dip_rates(hts007r)\n",
    "fp = fit_params(ctrl_dip_data, expt_dip_data)"
   ]
  },
  {
   "cell_type": "markdown",
   "metadata": {},
   "source": [
    "## Setting up plots\n",
    "\n",
    "Each of the `plot_X` functions returns a plotly `Figure` object which can be visualised in a number of ways. Here, we use the offline `iplot` function, which generates a plot for use with Jupyter notebook. We could also generate plots using the `plot` function in standalone HTML files. See the [plotly documentation](https://plot.ly/python/offline/) for more information on the latter approach. "
   ]
  },
  {
   "cell_type": "code",
   "execution_count": null,
   "metadata": {},
   "outputs": [],
   "source": [
    "from thunor.plots import plot_drc, plot_drc_params, plot_time_course, plot_ctrl_dip_by_plate, plot_plate_map"
   ]
  },
  {
   "cell_type": "markdown",
   "metadata": {},
   "source": [
    "## Plot Types\n",
    "\n",
    "### Plot DIP rate curves"
   ]
  },
  {
   "cell_type": "code",
   "execution_count": null,
   "metadata": {},
   "outputs": [],
   "source": [
    "plot_drc(fp)"
   ]
  },
  {
   "cell_type": "markdown",
   "metadata": {
    "collapsed": true
   },
   "source": [
    "### Plot DIP parameters"
   ]
  },
  {
   "cell_type": "code",
   "execution_count": null,
   "metadata": {},
   "outputs": [],
   "source": [
    "plot_drc_params(fp, 'auc')"
   ]
  },
  {
   "cell_type": "markdown",
   "metadata": {},
   "source": [
    "### Filtering fit params\n",
    "\n",
    "The `fp` object is a pandas data frame, so we can filter it before plotting. Some examples:"
   ]
  },
  {
   "cell_type": "code",
   "execution_count": null,
   "metadata": {},
   "outputs": [],
   "source": [
    "fit_params_bt20_pac = fp[fp.index.isin(['BT20'], level='cell_line') & \\\n",
    "                         fp.index.isin(['paclitaxel'], level='drug')]\n",
    "\n",
    "plot_drc(fit_params_bt20_pac)"
   ]
  },
  {
   "cell_type": "markdown",
   "metadata": {},
   "source": [
    "### Plot time course\n",
    "\n",
    "Time course plot for paclitaxel on BT20 cells:"
   ]
  },
  {
   "cell_type": "code",
   "execution_count": null,
   "metadata": {},
   "outputs": [],
   "source": [
    "plot_time_course(\n",
    "    hts007.filter(drugs=['paclitaxel'], cell_lines=['BT20'])\n",
    ")"
   ]
  },
  {
   "cell_type": "markdown",
   "metadata": {},
   "source": [
    "### Quality control check: plot DIP rate ranges by cell line and plate (box plot)"
   ]
  },
  {
   "cell_type": "code",
   "execution_count": null,
   "metadata": {
    "scrolled": false
   },
   "outputs": [],
   "source": [
    "plot_ctrl_dip_by_plate(ctrl_dip_data)"
   ]
  },
  {
   "cell_type": "markdown",
   "metadata": {},
   "source": [
    "### Quality control check: plot DIP rate as a plate heat map"
   ]
  },
  {
   "cell_type": "code",
   "execution_count": null,
   "metadata": {},
   "outputs": [],
   "source": [
    "plate_data = hts007.plate('HTS007_149-28A', include_dip_rates=True)"
   ]
  },
  {
   "cell_type": "code",
   "execution_count": null,
   "metadata": {},
   "outputs": [],
   "source": [
    "plot_plate_map(plate_data, color_by='dip_rates')"
   ]
  }
 ],
 "metadata": {
  "kernelspec": {
   "display_name": "Python 3",
   "language": "python",
   "name": "python3"
  },
  "language_info": {
   "codemirror_mode": {
    "name": "ipython",
    "version": 3
   },
   "file_extension": ".py",
   "mimetype": "text/x-python",
   "name": "python",
   "nbconvert_exporter": "python",
   "pygments_lexer": "ipython3",
   "version": "3.8.1"
  }
 },
 "nbformat": 4,
 "nbformat_minor": 1
}
