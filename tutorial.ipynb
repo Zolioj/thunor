{
 "cells": [
  {
   "cell_type": "markdown",
   "metadata": {},
   "source": [
    "# PyDRC Tutorial"
   ]
  },
  {
   "cell_type": "markdown",
   "metadata": {},
   "source": [
    "## Start Jupyter Notebook"
   ]
  },
  {
   "cell_type": "markdown",
   "metadata": {},
   "source": [
    "Run jupyter notebook with the following argument:\n",
    "\n",
    "    jupyter notebook --NotebookApp.iopub_data_rate_limit=1.0e10\n",
    "    \n",
    "The data rate limit needs to be increased or `init_notebook_mode()` throws an error."
   ]
  },
  {
   "cell_type": "markdown",
   "metadata": {},
   "source": [
    "## Load a file"
   ]
  },
  {
   "cell_type": "markdown",
   "metadata": {},
   "source": [
    "First, specify a file to load. This can be done as a string filename, but here we load an example dataset from the pydrc package."
   ]
  },
  {
   "cell_type": "code",
   "execution_count": null,
   "metadata": {
    "collapsed": true
   },
   "outputs": [],
   "source": [
    "import pkg_resources\n",
    "vu001_file = pkg_resources.resource_filename('pydrc', 'testdata/VU001.h5')"
   ]
  },
  {
   "cell_type": "markdown",
   "metadata": {},
   "source": [
    "Load the file using `read_hdf` (for HDF5 files), `read_vanderbilt_hts` (for CSV files), or another appropriate reader."
   ]
  },
  {
   "cell_type": "code",
   "execution_count": null,
   "metadata": {
    "collapsed": true
   },
   "outputs": [],
   "source": [
    "from pydrc.io import read_hdf\n",
    "vu001 = read_hdf(vu001_file)"
   ]
  },
  {
   "cell_type": "markdown",
   "metadata": {},
   "source": [
    "## Calculate DIP rates and parameters\n",
    "\n",
    "These two operations can be done in two lines of code (plus imports)."
   ]
  },
  {
   "cell_type": "code",
   "execution_count": null,
   "metadata": {
    "collapsed": true
   },
   "outputs": [],
   "source": [
    "from pydrc.dip import dip_rates, dip_fit_params\n",
    "\n",
    "ctrl_dip_data, expt_dip_data = dip_rates(vu001)\n",
    "fit_params = dip_fit_params(ctrl_dip_data, expt_dip_data)"
   ]
  },
  {
   "cell_type": "markdown",
   "metadata": {},
   "source": [
    "## Setting up plots\n",
    "\n",
    "Each of the `plot_X` functions returns a plotly `Figure` object which can be visualised in a number of ways. Here, we use the offline `iplot` function, which generates a plot for use with Jupyter notebook. We could also generate plots using the `plot` function in standalone HTML files. See the [plotly documentation](https://plot.ly/python/offline/) for more information on the latter approach. "
   ]
  },
  {
   "cell_type": "code",
   "execution_count": null,
   "metadata": {
    "collapsed": true
   },
   "outputs": [],
   "source": [
    "from pydrc.plots import plot_dip, plot_dip_params, plot_time_course\n",
    "from plotly.offline import iplot, init_notebook_mode\n",
    "init_notebook_mode()"
   ]
  },
  {
   "cell_type": "markdown",
   "metadata": {},
   "source": [
    "## Plot Types\n",
    "\n",
    "### Plot DIP rate curves"
   ]
  },
  {
   "cell_type": "code",
   "execution_count": null,
   "metadata": {},
   "outputs": [],
   "source": [
    "iplot(plot_dip(fit_params))"
   ]
  },
  {
   "cell_type": "markdown",
   "metadata": {
    "collapsed": true
   },
   "source": [
    "### Plot DIP parameters"
   ]
  },
  {
   "cell_type": "code",
   "execution_count": null,
   "metadata": {},
   "outputs": [],
   "source": [
    "iplot(plot_dip_params(fit_params, 'auc'))"
   ]
  },
  {
   "cell_type": "markdown",
   "metadata": {},
   "source": [
    "### Plot time course\n",
    "\n",
    "Time course plot for the 'Cell count' assay (this is a bit more work at the \n",
    "moment as we need to manually filter a drug/cell line/assay combination)"
   ]
  },
  {
   "cell_type": "code",
   "execution_count": null,
   "metadata": {},
   "outputs": [],
   "source": [
    "df_doses_filtered = vu001.doses.xs(['abemaciclib', 'BT20'],\n",
    "                                   level=['drug', 'cell_line'],\n",
    "                                   drop_level=False)\n",
    "df_controls_filtered = vu001.controls.loc['Cell count', 'BT20']\n",
    "df_assays_filtered = vu001.assays.loc['Cell count']\n",
    "iplot(plot_time_course(df_doses_filtered, df_assays_filtered, df_controls_filtered))"
   ]
  }
 ],
 "metadata": {
  "kernelspec": {
   "display_name": "Python 3",
   "language": "python",
   "name": "python3"
  },
  "language_info": {
   "codemirror_mode": {
    "name": "ipython",
    "version": 3
   },
   "file_extension": ".py",
   "mimetype": "text/x-python",
   "name": "python",
   "nbconvert_exporter": "python",
   "pygments_lexer": "ipython3",
   "version": "3.6.0"
  }
 },
 "nbformat": 4,
 "nbformat_minor": 1
}
